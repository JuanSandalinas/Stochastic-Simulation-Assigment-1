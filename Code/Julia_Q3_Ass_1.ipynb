{
 "cells": [
  {
   "cell_type": "markdown",
   "metadata": {},
   "source": [
    "## Creating processes and Importing Packages"
   ]
  },
  {
   "cell_type": "code",
   "execution_count": 2,
   "id": "aa91efaf",
   "metadata": {},
   "outputs": [
    {
     "data": {
      "text/plain": [
       "5-element Vector{Int64}:\n",
       " 2\n",
       " 3\n",
       " 4\n",
       " 5\n",
       " 6"
      ]
     },
     "metadata": {},
     "output_type": "display_data"
    }
   ],
   "source": [
    "using MPIClusterManagers\n",
    "using Distributed\n",
    "if procs() == workers()\n",
    "    nranks = 5\n",
    "    manager = MPIWorkerManager(nranks)\n",
    "    addprocs(manager)\n",
    "end"
   ]
  },
  {
   "cell_type": "code",
   "execution_count": 3,
   "metadata": {},
   "outputs": [],
   "source": [
    "@everywhere workers() begin \n",
    "    using Random\n",
    "    using Distributions\n",
    "    using CSV\n",
    "    using DataFrames\n",
    "end"
   ]
  },
  {
   "cell_type": "code",
   "execution_count": 107,
   "id": "3021be4d",
   "metadata": {},
   "outputs": [
    {
     "name": "stdout",
     "output_type": "stream",
     "text": [
      "      From worker 2:\tHello, I am process 0 of 5 processes!\n",
      "      From worker 3:\tHello, I am process 1 of 5 processes!\n",
      "      From worker 4:\tHello, I am process 2 of 5 processes!\n",
      "      From worker 5:\tHello, I am process 3 of 5 processes!\n",
      "      From worker 6:\tHello, I am process 4 of 5 processes!\n"
     ]
    }
   ],
   "source": [
    "@everywhere workers() begin\n",
    "    using MPI\n",
    "    MPI.Init()\n",
    "    comm = MPI.COMM_WORLD\n",
    "    nranks = MPI.Comm_size(comm)\n",
    "    rank = MPI.Comm_rank(comm)\n",
    "    println(\"Hello, I am process $rank of $nranks processes!\")\n",
    "end"
   ]
  },
  {
   "cell_type": "markdown",
   "metadata": {},
   "source": [
    "## Question 3"
   ]
  },
  {
   "cell_type": "markdown",
   "metadata": {},
   "source": [
    "### General functions"
   ]
  },
  {
   "cell_type": "code",
   "execution_count": 7,
   "id": "f3b9792d",
   "metadata": {},
   "outputs": [],
   "source": [
    "## GEneral funtions\n",
    "@everywhere function mandelbrot_set(c,iters)\n",
    "    \"Does n iteration for the mandelbor set for c\"\n",
    "    z = 0 # Mandelbrot set start always from 0\n",
    "    n = 0\n",
    "    while abs(z) <= 2 && n<iters\n",
    "        z = z^2 + c\n",
    "        n += 1\n",
    "    end\n",
    "    return n\n",
    "end\n",
    "\n",
    "@everywhere function area_general(det)\n",
    "    \"Function that given a list of 0 and 1 of the mandelbrot set, it returns the area of 0 over 1 for an area of 6\"\n",
    "    area_tot = 6\n",
    "    area_not = length(det[det .== 0.])\n",
    "    area_in = length(det[det .== 1.])\n",
    "    \n",
    "    area = area_tot*area_in/(area_not+area_in) ## Note, we compute 6*area_in/tot bu floating point\n",
    "    \n",
    "    return area\n",
    "end\n",
    "\n",
    "@everywhere function detector(c,iters)\n",
    "    \"Functions that return 1 if a number is in mandelbrot set, and 0 if it is not\"\n",
    "    n = mandelbrot_set(c,iters)\n",
    "    if n == iters ## If the number is inside we get 1\n",
    "        return 1\n",
    "    else ## If the number is outside we get 0\n",
    "        return 0\n",
    "    end\n",
    "end"
   ]
  },
  {
   "cell_type": "markdown",
   "metadata": {},
   "source": [
    "### Mandel pure functions"
   ]
  },
  {
   "cell_type": "code",
   "execution_count": 6,
   "metadata": {},
   "outputs": [],
   "source": [
    "\n",
    "@everywhere function area_mandel_pure(s,iters)\n",
    "\n",
    "    \"Given a sample of numbers and a maximum iterations iters, it return the area computed with mandel_pure\"\n",
    "    det = Int64[]\n",
    "    for i in 1:s\n",
    "        x = rand(Uniform(-2,1))\n",
    "        y = rand(Uniform(-1,1))\n",
    "        c = Complex(x,y)\n",
    "        det_s = detector(c,iters)\n",
    "        push!(det,det_s)\n",
    "    end\n",
    "    area = area_general(det)\n",
    "    return area\n",
    "end"
   ]
  },
  {
   "cell_type": "code",
   "execution_count": 7,
   "metadata": {},
   "outputs": [],
   "source": [
    "@everywhere workers() begin\n",
    "    area_mandel_pure(100,100)\n",
    "end"
   ]
  },
  {
   "cell_type": "markdown",
   "metadata": {},
   "source": [
    "### Latin Functions"
   ]
  },
  {
   "cell_type": "markdown",
   "metadata": {},
   "source": [
    "#### Sub functions"
   ]
  },
  {
   "cell_type": "code",
   "execution_count": 8,
   "metadata": {},
   "outputs": [],
   "source": [
    "@everywhere function latin_num_gen(s,lim_x,lim_y)\n",
    "    \"Function that generates the latin numbers, lim_x and lim_y are the max, and min values of x and y (x_min,x_max)\"\n",
    "    \n",
    "    spacing_x = (lim_x[2] - lim_x[1])/s\n",
    "    spacing_y = (lim_y[2] - lim_y[1])/s\n",
    "    c_x = Float64[]\n",
    "    c_y = Float64[]\n",
    "    \n",
    "    for i in 0:(s-1)\n",
    "        push!(c_x,rand(Uniform(lim_x[1] + spacing_x*i,lim_x[1] + spacing_x*(1+i))))\n",
    "        push!(c_y,rand(Uniform(lim_y[1] + spacing_y*i,lim_y[1] + spacing_y*(1+i))))\n",
    "    end\n",
    "\n",
    "    shuffle!(c_x)\n",
    "    shuffle!(c_y)\n",
    "\n",
    "    c = complex.(c_x,c_y)\n",
    "    \n",
    "    return c\n",
    "end\n",
    "\n",
    "\n",
    "@everywhere function latin_num_det(c,iters)\n",
    "    \"It returns an array with all the det of a subspace, for latin hypercube the subspace is all the space\"\n",
    "    z = 0\n",
    "    n = 0\n",
    "    while n < iters\n",
    "        z = z.^2 .+ c\n",
    "        n += 1\n",
    "    end\n",
    "    return z\n",
    "end\n",
    "\n"
   ]
  },
  {
   "cell_type": "markdown",
   "metadata": {},
   "source": [
    "#### Function\n"
   ]
  },
  {
   "cell_type": "code",
   "execution_count": 9,
   "metadata": {},
   "outputs": [],
   "source": [
    "@everywhere function area_mandel_latin(s,iters)\n",
    "    \n",
    "    \"Do the latin hypercubes for a sample size in monterblot\"\n",
    "    lim_x = (-2,1)\n",
    "    lim_y = (-1,1)\n",
    "\n",
    "    c = latin_num_gen(s,lim_x, lim_y)\n",
    "    \n",
    "    det = abs.(latin_num_det(c,iters))\n",
    "\n",
    "    det_in = filter(x -> x ≤ 2, det) \n",
    "\n",
    "    area = 6*(length(det_in))/s\n",
    "\n",
    "    return area\n",
    "end\n"
   ]
  },
  {
   "cell_type": "code",
   "execution_count": 10,
   "metadata": {},
   "outputs": [
    {
     "name": "stdout",
     "output_type": "stream",
     "text": [
      "      From worker 6:\t1.38\n",
      "      From worker 5:\t1.515\n",
      "      From worker 4:\t1.695\n"
     ]
    },
    {
     "name": "stdout",
     "output_type": "stream",
     "text": [
      "      From worker 3:\t1.59\n",
      "      From worker 2:\t1.5\n"
     ]
    }
   ],
   "source": [
    "@everywhere workers() begin\n",
    "    a = area_mandel_latin(400,200)\n",
    "    println(a)\n",
    "end"
   ]
  },
  {
   "cell_type": "markdown",
   "metadata": {},
   "source": [
    "### Ortoghonal Functions\n"
   ]
  },
  {
   "cell_type": "markdown",
   "id": "88fce133",
   "metadata": {},
   "source": [
    "#### Sub functions\n"
   ]
  },
  {
   "cell_type": "code",
   "execution_count": 103,
   "id": "d162ef91",
   "metadata": {},
   "outputs": [],
   "source": [
    "@everywhere function intervals_gen(s)\n",
    "    \"Generates al the intervals for orthogoanl sampling\"\n",
    "    spacing_x = (3)/s\n",
    "    spacing_y = (2)/s\n",
    "    intervals_x = hcat(collect(-2:spacing_x:1-spacing_x), collect(-2+spacing_x:spacing_x:1))\n",
    "    intervals_y = hcat(collect(-1:spacing_y:1-spacing_y), collect(-1+spacing_y:spacing_y:1))\n",
    "    return intervals_x, intervals_y\n",
    "\n",
    "end\n",
    "\n",
    "@everywhere function  orto_num_gen(s_i, lim_x, lim_y, intervals_x, intervals_y)\n",
    "    \"Function that given a subspace, it creates the values on it\"\n",
    "    s_i = Int(s_i)\n",
    "    fil_intervals_x = intervals_x[(intervals_x[:, 1].>=lim_x[1]).&(intervals_x[:, 2].<=lim_x[2]),:]\n",
    "    \n",
    "    fil_intervals_y = intervals_y[(intervals_y[:, 1].>=lim_y[1]).&(intervals_y[:, 2].<=lim_y[2]),:]\n",
    "    cols_n = randperm(size(fil_intervals_x, 1))[1:s_i]\n",
    "    rows_n = randperm(size(fil_intervals_y, 1))[1:s_i]\n",
    "\n",
    "    cols = fil_intervals_x[cols_n,:]\n",
    "    rows = fil_intervals_y[rows_n,:]\n",
    "    \n",
    "    c_x = [rand(Uniform(a,b)) for (a, b) in eachrow(cols)]\n",
    "    c_y = [rand(Uniform(a,b)) for (a, b) in eachrow(rows)]\n",
    "    \n",
    "    for (col,row) in zip(eachrow(cols),eachrow(rows))\n",
    "\n",
    "        col = hcat(col...)\n",
    "        row = hcat(row...)\n",
    "\n",
    "        col_del = findall(all(intervals_x .== col, dims = 2))[1][1]\n",
    "        intervals_x = vcat(intervals_x[1:col_del-1,:], intervals_x[col_del+1:size(intervals_x)[1], :])\n",
    "\n",
    "        row_del = findall(all(intervals_y .== row, dims = 2))[1][1]\n",
    "        intervals_y = vcat( intervals_y[1:row_del-1,:], intervals_y[row_del+1:size(intervals_y)[1], :])\n",
    "    end\n",
    "\n",
    "    shuffle!(c_x)\n",
    "    shuffle!(c_y)\n",
    "    c = hcat(c_x,c_y)\n",
    "\n",
    "    return c, intervals_x, intervals_y\n",
    "end"
   ]
  },
  {
   "cell_type": "markdown",
   "metadata": {},
   "source": [
    "#### Function from Julia"
   ]
  },
  {
   "cell_type": "code",
   "execution_count": 104,
   "id": "70e8345b",
   "metadata": {},
   "outputs": [],
   "source": [
    "@everywhere function area_mandel_ort(s,iters)\n",
    "    \"We generate x subspaces, and each subspace we do latin.The number of samples must be multiple of subspaces\"\n",
    "    a = time()\n",
    "    n_subspaces = 10\n",
    "    n_rows = 2\n",
    "    n_cols = 5\n",
    "    intervals_x, intervals_y = intervals_gen(s)\n",
    "    intervals_x_np, intervals_y_np = intervals_x, intervals_y\n",
    "    det = Float64[]\n",
    "    subspace_x = Int(length(intervals_x)/(2*n_cols)) # Intervals of each subspace\n",
    "    subspace_y = Int(length(intervals_y)/(2*n_rows))\n",
    "    s_i = s/n_subspaces ## Number of values to compute in each subspace\n",
    "    c_l = Matrix{Float64}(undef,0,2) \n",
    "   \n",
    "    for i in 0: n_cols-1 # We get the limits for each subspace and compute the latin numbers\n",
    "\n",
    "        low_bound_x = trunc(Int,subspace_x*i + 1)\n",
    "        upper_bound_x = trunc(Int,subspace_x*i + subspace_x)\n",
    "        lim_x = (intervals_x_np[low_bound_x,1],intervals_x_np[upper_bound_x,2])\n",
    "\n",
    "        for j in 0:n_rows-1\n",
    "            \n",
    "            lim_y = (intervals_y_np[trunc(Int,subspace_y*j+1),1],intervals_y_np[trunc(Int,subspace_y*j + subspace_y),2])\n",
    "            c,intervals_x,intervals_y = orto_num_gen(s_i,lim_x,lim_y, intervals_x, intervals_y)\n",
    "            c_l = vcat(c_l, c)\n",
    "        end\n",
    "    end\n",
    "\n",
    "    c_l = complex.(c_l[:, 1], c_l[:, 2])\n",
    "    det = abs.(latin_num_det(c_l,iters))\n",
    "    det_in = filter(x -> x ≤ 2, det) \n",
    "    area = 6*(length(det_in))/s\n",
    "\n",
    "    return area\n",
    "end"
   ]
  },
  {
   "cell_type": "code",
   "execution_count": 16,
   "metadata": {},
   "outputs": [
    {
     "name": "stdout",
     "output_type": "stream",
     "text": [
      "      From worker 3:\t1.53\n",
      "      From worker 4:\t1.26\n",
      "      From worker 5:\t1.32\n",
      "      From worker 2:\t1.44\n",
      "      From worker 6:\t1.59\n"
     ]
    }
   ],
   "source": [
    "@everywhere workers() begin\n",
    "    a = area_mandel_ort(200,200)\n",
    "    println(a)\n",
    "end"
   ]
  },
  {
   "cell_type": "markdown",
   "metadata": {},
   "source": [
    "## Simulations"
   ]
  },
  {
   "cell_type": "markdown",
   "metadata": {},
   "source": [
    "### Functions\n"
   ]
  },
  {
   "cell_type": "code",
   "execution_count": 127,
   "metadata": {},
   "outputs": [],
   "source": [
    "@everywhere function n_simulations(model,n,samples)\n",
    "    iterations = 200\n",
    "    dict = Dict()\n",
    "    for sample in samples\n",
    "        areas = Float64[]\n",
    "        for sim in 0:n\n",
    "            area = model(sample,iterations)\n",
    "            push!(areas,area)\n",
    "        end\n",
    "        dict[\"$sample\"] = areas\n",
    "    end\n",
    "    return dict\n",
    "end\n",
    "\n",
    "@everywhere function question_3(model, max_samples, n,rank,nranks)\n",
    "    samples = collect(100:100:max_samples)\n",
    "    df = n_simulations(model,n,samples) \n",
    "    df = DataFrame(df)\n",
    "\n",
    "    if model == area_mandel_latin\n",
    "        CSV.write(\"Latin by $rank with $n simulations and 2000 samples .csv\",df)\n",
    "    end\n",
    "    \n",
    "    if model == area_mandel_pure\n",
    "        CSV.write(\"Pure by $rank with $n simulations and 2000.csv\",df)\n",
    "    end\n",
    "   \n",
    "    if model == area_mandel_ort\n",
    "        CSV.write(\"Ort by $rank with $n simulations and 2000.csv\",df)\n",
    "    end\n",
    "end"
   ]
  },
  {
   "cell_type": "markdown",
   "metadata": {},
   "source": [
    "### Simulations"
   ]
  },
  {
   "cell_type": "code",
   "execution_count": 128,
   "metadata": {},
   "outputs": [],
   "source": [
    "@everywhere workers() begin\n",
    "    using MPI\n",
    "    MPI.Init()\n",
    "    comm = MPI.COMM_WORLD\n",
    "    nranks = MPI.Comm_size(comm)\n",
    "    rank = MPI.Comm_rank(comm)\n",
    "    question_3(area_mandel_pure,200,10,rank,nranks)\n",
    "    question_3(area_mandel_latin,200,10,rank,nranks)\n",
    "    question_3(area_mandel_ort,200,10,rank,nranks)\n",
    "end"
   ]
  },
  {
   "cell_type": "code",
   "execution_count": 94,
   "metadata": {},
   "outputs": [],
   "source": [
    "@everywhere workers() begin\n",
    "    using MPI\n",
    "    MPI.Init()\n",
    "    comm = MPI.COMM_WORLD\n",
    "    nranks = MPI.Comm_size(comm)\n",
    "    rank = MPI.Comm_rank(comm)\n",
    "    question_3(area_mandel_pure,2000, 2000,rank,nranks)\n",
    "    question_3(area_mandel_latin,2000, 2000,rank,nranks)\n",
    "    question_3(area_mandel_ort,2000, 2000,rank,nranks)\n",
    "end"
   ]
  }
 ],
 "metadata": {
  "kernelspec": {
   "display_name": "Julia 1.9.3",
   "language": "julia",
   "name": "julia-1.9"
  },
  "language_info": {
   "file_extension": ".jl",
   "mimetype": "application/julia",
   "name": "julia",
   "version": "1.9.3"
  }
 },
 "nbformat": 4,
 "nbformat_minor": 5
}
