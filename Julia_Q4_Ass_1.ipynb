{
 "cells": [
  {
   "cell_type": "markdown",
   "metadata": {},
   "source": [
    "# Creating processes"
   ]
  },
  {
   "cell_type": "code",
   "execution_count": 39,
   "id": "aa91efaf",
   "metadata": {},
   "outputs": [
    {
     "data": {
      "text/plain": [
       "4-element Vector{Int64}:\n",
       " 6\n",
       " 7\n",
       " 8\n",
       " 9"
      ]
     },
     "metadata": {},
     "output_type": "display_data"
    }
   ],
   "source": [
    "using MPIClusterManagers\n",
    "using Distributed\n",
    "if procs() == workers()\n",
    "    nranks = 4\n",
    "    manager = MPIWorkerManager(nranks)\n",
    "    addprocs(manager)\n",
    "end"
   ]
  },
  {
   "cell_type": "code",
   "execution_count": 2,
   "metadata": {},
   "outputs": [],
   "source": [
    "@everywhere workers() begin\n",
    "    using CSV\n",
    "end"
   ]
  },
  {
   "cell_type": "code",
   "execution_count": 40,
   "id": "3021be4d",
   "metadata": {},
   "outputs": [
    {
     "name": "stdout",
     "output_type": "stream",
     "text": [
      "      From worker 7:\tHello, I am process 1 of 4 processes!\n",
      "      From worker 9:\tHello, I am process 3 of 4 processes!\n",
      "      From worker 6:\tHello, I am process 0 of 4 processes!\n",
      "      From worker 8:\tHello, I am process 2 of 4 processes!\n"
     ]
    }
   ],
   "source": [
    "@everywhere workers() begin\n",
    "    using MPI\n",
    "    MPI.Init()\n",
    "    comm = MPI.COMM_WORLD\n",
    "    nranks = MPI.Comm_size(comm)\n",
    "    rank = MPI.Comm_rank(comm)\n",
    "    println(\"Hello, I am process $rank of $nranks processes!\")\n",
    "end\n"
   ]
  },
  {
   "cell_type": "markdown",
   "metadata": {},
   "source": [
    "## Question 4"
   ]
  },
  {
   "cell_type": "markdown",
   "metadata": {},
   "source": [
    "### General functions"
   ]
  },
  {
   "cell_type": "code",
   "execution_count": 41,
   "id": "f3b9792d",
   "metadata": {},
   "outputs": [],
   "source": [
    "## GEneral funtions\n",
    "@everywhere function mandelbrot_set(c,iters)\n",
    "    \"Does n iteration fo the mandelbor set for c\"\n",
    "    z = 0 # Mandelbrot set start always from 0\n",
    "    n = 0\n",
    "    while abs(z) <= 2 && n<iters\n",
    "        z = z^2 + c\n",
    "        n += 1\n",
    "    end\n",
    "    return n\n",
    "end\n",
    "\n",
    "\n",
    "@everywhere function detector(c,iters)\n",
    "    \"Functions that return 1 if a number is in madelbrot set, and 0 if it is not\"\n",
    "    n = mandelbrot_set(c,iters)\n",
    "    if n == iters ## If the number is inside we get 1\n",
    "        return 1\n",
    "    else ## If the number is outside we get 0\n",
    "        return 0\n",
    "    end\n",
    "end"
   ]
  },
  {
   "cell_type": "code",
   "execution_count": 42,
   "metadata": {},
   "outputs": [],
   "source": [
    "\n",
    "## IT DELETES ALL THE DATA, AND GENEREATES NEW CSV FILES\n",
    "@everywhere workers() begin\n",
    "    using CSV\n",
    "    using MPI\n",
    "    MPI.Init()\n",
    "    comm = MPI.Comm_dup(MPI.COMM_WORLD)\n",
    "    nranks = MPI.Comm_size(comm)\n",
    "    rank = MPI.Comm_rank(comm)\n",
    "    \n",
    "    open(\"Mande_complex$rank.csv\", \"w\") do csvfile\n",
    "        CSV.write(csvfile, [], headers = [\"Real\", \"Imaginary\", \"Detect\", \"Iterations\"], append = true)\n",
    "    end\n",
    "end\n",
    "\n"
   ]
  },
  {
   "cell_type": "code",
   "execution_count": 43,
   "id": "88fce133",
   "metadata": {},
   "outputs": [],
   "source": [
    "\n",
    "@everywhere function Data_creator(lim_x,lim_y,rank, sample)\n",
    "    \"Stores all de data creating a mesh in a csv file with, real part, imaginary part, detection (1 if is from mandelbrot set) and the numbers of iterations\"\n",
    "    width, height = (sample, sample) # We will generate a total of \n",
    "    iters = 200 #The maximum height we will look into\n",
    "    min_x = lim_x[1]\n",
    "    max_x = lim_x[2]\n",
    "    min_y = lim_y[1]\n",
    "    max_y = lim_y[2]\n",
    "    data = []\n",
    "    open(\"Mande_complex$rank and $sample.csv\", \"a\") do csvfile\n",
    "        for x in range(0,width)\n",
    "            real = min_x + (x/width)*(max_x - min_x)\n",
    "            for y in range(0,height)\n",
    "                imag = min_y + (y/height)*(max_y - min_y)\n",
    "                c = Complex(real,imag)\n",
    "\n",
    "                n = mandelbrot_set(c,iters)\n",
    "                det = detector(c,iters)\n",
    "                dict = (Real = real, Imaginary= imag, Detect= det, Iterations = n)\n",
    "                push!(data,dict) \n",
    "            end\n",
    "            CSV.write(csvfile, data, append = true)\n",
    "            data = []\n",
    "        end\n",
    "    end\n",
    "end"
   ]
  },
  {
   "cell_type": "code",
   "execution_count": 44,
   "metadata": {},
   "outputs": [],
   "source": [
    "#High load imbalance\n",
    "@everywhere workers() begin\n",
    "    using MPI\n",
    "    using CSV\n",
    "    MPI.Init()\n",
    "    comm = MPI.Comm_dup(MPI.COMM_WORLD)\n",
    "    nranks = MPI.Comm_size(comm)\n",
    "    rank = MPI.Comm_rank(comm)\n",
    "    root = 0 \n",
    "    samples = [2200,1800,1400,1000,800,200,100,60,20,10,5] ## Edit here for the number of samples (sample*sample^*4 = total number)\n",
    "    for sample in samples\n",
    "        if rank == 0\n",
    "            local lim_x =(-2,-0.5)\n",
    "            local lim_y =(-1,0)\n",
    "            Data_creator(lim_x,lim_y,rank,sample)\n",
    "        end\n",
    "\n",
    "        if rank == 1\n",
    "            local lim_x =(-0.5,1)\n",
    "            local lim_y =(-1,0) \n",
    "            Data_creator(lim_x,lim_y,rank,sample)\n",
    "        end\n",
    "\n",
    "        if rank == 2\n",
    "            local lim_x =(-2,-0.5)\n",
    "            local lim_y =(0,1)\n",
    "            Data_creator(lim_x,lim_y,rank,sample)\n",
    "        end\n",
    "\n",
    "        if rank == 3\n",
    "            local lim_x =(-0.5,1)\n",
    "            local lim_y =(0,1) \n",
    "            Data_creator(lim_x,lim_y,rank,sample)\n",
    "        end\n",
    "    end\n",
    "            \n",
    "end"
   ]
  },
  {
   "cell_type": "code",
   "execution_count": null,
   "metadata": {},
   "outputs": [],
   "source": [
    "## Better parallelization, Area copmutation not implemented for this result type\n",
    "@everywhere workers() begin\n",
    "    using MPI\n",
    "    using CSV\n",
    "    MPI.Init()\n",
    "    comm = MPI.Comm_dup(MPI.COMM_WORLD)\n",
    "    nranks = MPI.Comm_size(comm)\n",
    "    rank = MPI.Comm_rank(comm)\n",
    "    root = 0 \n",
    "    nrows = 80\n",
    "    size_rows = 2/nrows\n",
    "    lim_x = (-2,1)\n",
    "    row = 0\n",
    "    for i in 0:nrows\n",
    "\n",
    "        local lim_y = (-1 + size_rows*(i-1),-1 +  size_rows*(i))\n",
    "\n",
    "        if row == rank\n",
    "            Data_creator(lim_x,lim_y,rank)\n",
    "        end\n",
    "        \n",
    "        global row += 1\n",
    "\n",
    "        if row == nranks\n",
    "            global row = 0\n",
    "        end\n",
    "    end\n",
    "end"
   ]
  },
  {
   "cell_type": "code",
   "execution_count": null,
   "id": "70e8345b",
   "metadata": {},
   "outputs": [],
   "source": [
    "#24 minutes for creating 400.000.000 manderplot values with 2000 iterations"
   ]
  }
 ],
 "metadata": {
  "kernelspec": {
   "display_name": "Julia 1.9.3",
   "language": "julia",
   "name": "julia-1.9"
  },
  "language_info": {
   "file_extension": ".jl",
   "mimetype": "application/julia",
   "name": "julia",
   "version": "1.9.3"
  }
 },
 "nbformat": 4,
 "nbformat_minor": 5
}
